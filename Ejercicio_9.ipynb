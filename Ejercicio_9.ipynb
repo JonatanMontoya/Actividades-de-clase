{
  "nbformat": 4,
  "nbformat_minor": 0,
  "metadata": {
    "colab": {
      "name": "Ejercicio 9.ipynb",
      "provenance": [],
      "authorship_tag": "ABX9TyNtEQVGYgDv0qGfxPLxwzgw",
      "include_colab_link": true
    },
    "kernelspec": {
      "name": "python3",
      "display_name": "Python 3"
    },
    "language_info": {
      "name": "python"
    }
  },
  "cells": [
    {
      "cell_type": "markdown",
      "metadata": {
        "id": "view-in-github",
        "colab_type": "text"
      },
      "source": [
        "<a href=\"https://colab.research.google.com/github/JonatanMontoya/Actividades-de-clase/blob/main/Ejercicio_9.ipynb\" target=\"_parent\"><img src=\"https://colab.research.google.com/assets/colab-badge.svg\" alt=\"Open In Colab\"/></a>"
      ]
    },
    {
      "cell_type": "markdown",
      "source": [
        "Eleccion aleatoria de ciudades\n",
        "\n",
        "a) HACER UNA LISTA Y ELEGIR UNA CIUDAD DESPUÉS DE HACER UNA MEZCLA\n",
        "\n",
        "b) ELEGIR TRES CIUDADES AL AZAR DESPUES DE HACER UNA MEZCLA"
      ],
      "metadata": {
        "id": "jvLimJ56LS8F"
      }
    },
    {
      "cell_type": "code",
      "execution_count": 3,
      "metadata": {
        "colab": {
          "base_uri": "https://localhost:8080/"
        },
        "id": "KX3ukQYyLNOJ",
        "outputId": "07d777e8-3141-4f99-f9e2-8c2c1d48097a"
      },
      "outputs": [
        {
          "output_type": "stream",
          "name": "stdout",
          "text": [
            "a) La ciudad ganadora es : CDMX\n",
            "b) Las ciudades ganadoras son :  ['Guadalajara', 'CDMX', 'Campeche']\n"
          ]
        }
      ],
      "source": [
        "#Montoya Lopez JOnatan Emmanuel\n",
        "#a)\n",
        "\n",
        "import random\n",
        "import numpy as np\n",
        "ciudades = ['Baja California','Campeche','Guadalajara','CDMX', 'Chiapas','Cancun','Morelia','Monterrey']\n",
        "random.shuffle(ciudades)\n",
        "Ciudad = random.choice(ciudades) \n",
        "print (\"a) La ciudad ganadora es :\", Ciudad)\n",
        "\n",
        "#b)\n",
        "random.shuffle(ciudades)\n",
        "ciudades = random.sample(ciudades, 3) \n",
        "print (\"b) Las ciudades ganadoras son : \", ciudades)\n"
      ]
    }
  ]
}