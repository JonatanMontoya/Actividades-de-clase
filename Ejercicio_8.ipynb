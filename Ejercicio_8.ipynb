{
  "nbformat": 4,
  "nbformat_minor": 0,
  "metadata": {
    "colab": {
      "name": "Ejercicio 8.ipynb",
      "provenance": [],
      "authorship_tag": "ABX9TyMYUqIvQVXF4KIxfoOViqof",
      "include_colab_link": true
    },
    "kernelspec": {
      "name": "python3",
      "display_name": "Python 3"
    },
    "language_info": {
      "name": "python"
    }
  },
  "cells": [
    {
      "cell_type": "markdown",
      "metadata": {
        "id": "view-in-github",
        "colab_type": "text"
      },
      "source": [
        "<a href=\"https://colab.research.google.com/github/JonatanMontoya/Actividades-de-clase/blob/main/Ejercicio_8.ipynb\" target=\"_parent\"><img src=\"https://colab.research.google.com/assets/colab-badge.svg\" alt=\"Open In Colab\"/></a>"
      ]
    },
    {
      "cell_type": "markdown",
      "source": [
        "Estimación de integrales correspondientes a las notas\n"
      ],
      "metadata": {
        "id": "H9XE1vtwJ6vf"
      }
    },
    {
      "cell_type": "code",
      "execution_count": 2,
      "metadata": {
        "colab": {
          "base_uri": "https://localhost:8080/"
        },
        "id": "ZEdQJDLOJoQ8",
        "outputId": "8bb8a215-b40f-49dd-8275-b315b2fe6757"
      },
      "outputs": [
        {
          "output_type": "stream",
          "name": "stdout",
          "text": [
            "El valor de la integral es:  0.58826\n"
          ]
        }
      ],
      "source": [
        "#Montoya López Jonatan Emmanuel\n",
        "#Integral 1\n",
        "\n",
        "import random\n",
        "import numpy as np\n",
        "from statistics import mean, median, variance, stdev\n",
        "import pandas as pd\n",
        "\n",
        "def test_function(x):\n",
        "    return((1-x**2)**(3/2))\n",
        "\n",
        "def integrate(x1,x2,func=test_function,n=100000):\n",
        "    X=np.linspace(x1,x2,1000)\n",
        "    y1=0\n",
        "    y2=max((func(X)))\n",
        "    area=(x2-x1)*(y2-y1)\n",
        "    check=[]\n",
        "    xs=[]\n",
        "    ys=[]\n",
        "    for i in range(n):\n",
        "        x=np.random.uniform(x1,x2,1)\n",
        "        xs.append(x)\n",
        "        y=np.random.uniform(y1,y2,1)\n",
        "        ys.append(y)\n",
        "        if abs(y)>abs(func(x)) or y<0:\n",
        "            check.append(0)\n",
        "        else:\n",
        "            check.append(1)\n",
        "    return(np.mean(check)*area,xs,ys,check)\n",
        "I,x,y,c=integrate(0,1)\n",
        "print(\"El valor de la integral es: \",I)"
      ]
    },
    {
      "cell_type": "code",
      "source": [
        "#Montoya López Jonatan Emmanuel\n",
        "#Integral 2\n",
        "\n",
        "import random\n",
        "import numpy as np\n",
        "from statistics import mean, median, variance, stdev\n",
        "from math import exp\n",
        "\n",
        "def test_function(x):\n",
        "    return(exp(x+x**2))\n",
        "\n",
        "def integral(func=test_function, n=100000):\n",
        "    suma=[]\n",
        "    a=-2\n",
        "    b=2\n",
        "    for i in range(n):\n",
        "        u=random.uniform(a,b)\n",
        "        y=func(u)\n",
        "        suma.append(y)\n",
        "\n",
        "    return((b-a)*(np.mean(suma)))\n",
        "\n",
        "print(\"El valor de la integral es: \", integral())"
      ],
      "metadata": {
        "colab": {
          "base_uri": "https://localhost:8080/"
        },
        "id": "fs2866RiKxt4",
        "outputId": "e1dc0c93-dccb-4fbf-f354-3bce5316d4a9"
      },
      "execution_count": 4,
      "outputs": [
        {
          "output_type": "stream",
          "name": "stdout",
          "text": [
            "El valor de la integral es:  91.75987048558123\n"
          ]
        }
      ]
    }
  ]
}