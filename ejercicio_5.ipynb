{
  "nbformat": 4,
  "nbformat_minor": 0,
  "metadata": {
    "colab": {
      "name": "ejercicio 5.ipynb",
      "provenance": [],
      "authorship_tag": "ABX9TyOJk8yXAB8UN+zyY+j6/lXi",
      "include_colab_link": true
    },
    "kernelspec": {
      "name": "python3",
      "display_name": "Python 3"
    },
    "language_info": {
      "name": "python"
    }
  },
  "cells": [
    {
      "cell_type": "markdown",
      "metadata": {
        "id": "view-in-github",
        "colab_type": "text"
      },
      "source": [
        "<a href=\"https://colab.research.google.com/github/JonatanMontoya/Actividades-de-clase/blob/main/ejercicio_5.ipynb\" target=\"_parent\"><img src=\"https://colab.research.google.com/assets/colab-badge.svg\" alt=\"Open In Colab\"/></a>"
      ]
    },
    {
      "cell_type": "markdown",
      "source": [
        "Ejercicio 5\n"
      ],
      "metadata": {
        "id": "QTgOgXZ7J98Y"
      }
    },
    {
      "cell_type": "code",
      "execution_count": 1,
      "metadata": {
        "colab": {
          "base_uri": "https://localhost:8080/",
          "height": 696
        },
        "id": "6og_VjTaJ6Jc",
        "outputId": "686b3219-282f-404e-c089-3a3458027291"
      },
      "outputs": [
        {
          "output_type": "stream",
          "name": "stdout",
          "text": [
            "PI = 3.1486205873628004\n",
            "ERROR = 0.002237060799393158\n",
            "VALOR ESPERADO (SIMULACION) 0.7871551468407001\n",
            "ERROR ESPERANZA 0.002237060799393158\n",
            "VARIANZA (SIMULACION) 0.16754813449273626\n",
            "ERROR VALOR REAL 0.001272926119794383\n"
          ]
        },
        {
          "output_type": "display_data",
          "data": {
            "text/plain": [
              "<Figure size 720x720 with 1 Axes>"
            ],
            "image/png": "[encoded data removed]"
          },
          "metadata": {
            "needs_background": "light"
          }
        }
      ],
      "source": [
        "#Montoya Lopez Jonatan Emmanuel\n",
        "import random\n",
        "import matplotlib.pyplot as plt \n",
        "import numpy as np \n",
        "import math\n",
        "from statistics import mean, variance\n",
        "\n",
        "def MC(n):\n",
        "    pi = 0\n",
        "    lx = []\n",
        "    ly = []\n",
        "    counter = 0\n",
        "    xi = 0\n",
        "    Z = []\n",
        "    for i in range(n):\n",
        "        x = random.random()\n",
        "        y = random.random()\n",
        "        if x**2 + y**2 <1:\n",
        "            counter = counter + 1\n",
        "            lx.append(counter)\n",
        "            ly.append(4.0*float(counter)/(i + 1))\n",
        "            xi = 1\n",
        "            Z.append(xi)\n",
        "        else:\n",
        "            xi = 0\n",
        "            Z.append(xi)\n",
        "        pi = 4.0*float(counter)/(i + 1)\n",
        "        e = np.absolute((pi - np.pi)/np.pi)\n",
        "        \n",
        "    p=np.pi/4\n",
        "\n",
        "    prom = mean(Z)\n",
        "    errorE = np.absolute((prom - (p))/(p)) \n",
        "    var = variance(Z)\n",
        "    errorV = np.absolute((var - ((p)*(1-p)))/(p))\n",
        "    print(\"PI =\", pi)\n",
        "    print(\"ERROR =\", e)\n",
        "    print(\"VALOR ESPERADO (SIMULACION)\", prom)\n",
        "    print(\"ERROR ESPERANZA\", errorE)\n",
        "    print(\"VARIANZA (SIMULACION)\", var)\n",
        "    print(\"ERROR VALOR REAL\", errorV)\n",
        "    \n",
        "    fig = plt.figure(1, figsize=(10, 10))        \n",
        "    plt.grid()\n",
        "    plt.plot(lx, ly, color=\"blue\", markersize=1)\n",
        "    plt.show()\n",
        "\n",
        "MC(26968)"
      ]
    }
  ]
}