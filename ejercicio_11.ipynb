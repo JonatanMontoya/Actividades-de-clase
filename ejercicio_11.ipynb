{
  "nbformat": 4,
  "nbformat_minor": 0,
  "metadata": {
    "colab": {
      "name": "ejercicio 11",
      "provenance": [],
      "authorship_tag": "ABX9TyP9MPiQ9OeGHX13l4kWrGIC",
      "include_colab_link": true
    },
    "kernelspec": {
      "name": "python3",
      "display_name": "Python 3"
    },
    "language_info": {
      "name": "python"
    }
  },
  "cells": [
    {
      "cell_type": "markdown",
      "metadata": {
        "id": "view-in-github",
        "colab_type": "text"
      },
      "source": [
        "<a href=\"https://colab.research.google.com/github/JonatanMontoya/Actividades-de-clase/blob/main/ejercicio_11.ipynb\" target=\"_parent\"><img src=\"https://colab.research.google.com/assets/colab-badge.svg\" alt=\"Open In Colab\"/></a>"
      ]
    },
    {
      "cell_type": "markdown",
      "source": [
        "Ejercicio 11\n",
        "\n",
        "Simular dos distribuciones de probabilidad excepto la normal y la exponencial"
      ],
      "metadata": {
        "id": "fz2-SjZNVIor"
      }
    },
    {
      "cell_type": "code",
      "execution_count": 3,
      "metadata": {
        "colab": {
          "base_uri": "https://localhost:8080/",
          "height": 265
        },
        "id": "K_seOdUTVH33",
        "outputId": "b18a020a-af03-4ccb-bb8b-0e614e2f6051"
      },
      "outputs": [
        {
          "output_type": "display_data",
          "data": {
            "text/plain": [
              "<Figure size 432x288 with 1 Axes>"
            ],
            "image/png": "[encoded data removed]"
          },
          "metadata": {
            "needs_background": "light"
          }
        }
      ],
      "source": [
        "#Montoya López Jonatan Emmanuel\n",
        "\n",
        "import random\n",
        "import numpy as np\n",
        "import matplotlib.pyplot as plt   \n",
        "\n",
        "nums = []\n",
        "p=.5\n",
        "\n",
        "for i in range(10000):\n",
        "    U=random.random()\n",
        "    if U<=(1-p):\n",
        "      X=0\n",
        "    else:\n",
        "      X=1\n",
        "    nums.append(X)\n",
        "\n",
        "plt.hist(nums, bins = 10, color = 'grey')\n",
        "plt.show()\n",
        "\n",
        "\n",
        "\n"
      ]
    },
    {
      "cell_type": "code",
      "source": [
        "\n",
        "import random\n",
        "import numpy as np\n",
        "import matplotlib.pyplot as plt   \n",
        "\n",
        "nums = []\n",
        "\n",
        "for i in range(10000):\n",
        "    temp = np.random.geometric(0.5)\n",
        "\n",
        "    nums.append(temp)\n",
        "\n",
        "plt.hist(nums, bins = 10, color = 'green')\n",
        "plt.show()"
      ],
      "metadata": {
        "colab": {
          "base_uri": "https://localhost:8080/",
          "height": 265
        },
        "id": "kxKUKU46VwO-",
        "outputId": "4e2c827e-e550-4bba-e2f6-e0d9ddde009e"
      },
      "execution_count": 5,
      "outputs": [
        {
          "output_type": "display_data",
          "data": {
            "text/plain": [
              "<Figure size 432x288 with 1 Axes>"
            ],
            "image/png": "[encoded data removed]"
          },
          "metadata": {
            "needs_background": "light"
          }
        }
      ]
    }
  ]
}