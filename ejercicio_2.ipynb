{
  "nbformat": 4,
  "nbformat_minor": 0,
  "metadata": {
    "colab": {
      "name": "ejercicio 2.ipynb",
      "provenance": [],
      "authorship_tag": "ABX9TyMinsvFlQt8+uy97zGmcd0h",
      "include_colab_link": true
    },
    "kernelspec": {
      "name": "python3",
      "display_name": "Python 3"
    },
    "language_info": {
      "name": "python"
    }
  },
  "cells": [
    {
      "cell_type": "markdown",
      "metadata": {
        "id": "view-in-github",
        "colab_type": "text"
      },
      "source": [
        "<a href=\"https://colab.research.google.com/github/JonatanMontoya/Actividades-de-clase/blob/main/ejercicio_2.ipynb\" target=\"_parent\"><img src=\"https://colab.research.google.com/assets/colab-badge.svg\" alt=\"Open In Colab\"/></a>"
      ]
    },
    {
      "cell_type": "markdown",
      "source": [
        "Ejercicio 2:\n",
        "\n",
        "a) Simular un sorteo de los colores blanco, negro, rojo, azul y verde.\n",
        "\n",
        "b) Simular 5 sorteos con sustitución."
      ],
      "metadata": {
        "id": "J05iwYyJIN0g"
      }
    },
    {
      "cell_type": "code",
      "execution_count": 1,
      "metadata": {
        "colab": {
          "base_uri": "https://localhost:8080/"
        },
        "id": "dxUUAgiCIIuo",
        "outputId": "75cca80c-2a05-4f50-a94c-d8abd0ab2c2a"
      },
      "outputs": [
        {
          "output_type": "stream",
          "name": "stdout",
          "text": [
            "rojo\n",
            "\n",
            "['blanco', 'rojo', 'blanco', 'azul', 'rojo']\n"
          ]
        }
      ],
      "source": [
        "#Montoya Lopez Jonatan Emmanuel\n",
        "# a)\n",
        "import random\n",
        "lista=['blanco','negro','rojo','azul','rojo']\n",
        "seleccion=random.choice(lista)\n",
        "print(seleccion)\n",
        "print(\"\")\n",
        "\n",
        "# b)\n",
        "seleccion=[]\n",
        "for i in range(5):\n",
        "  sel=random.choice(lista)\n",
        "  seleccion.append(sel)\n",
        "print(seleccion)"
      ]
    }
  ]
}